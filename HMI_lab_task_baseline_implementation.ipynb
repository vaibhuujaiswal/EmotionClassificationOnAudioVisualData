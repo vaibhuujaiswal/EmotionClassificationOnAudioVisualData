{
  "nbformat": 4,
  "nbformat_minor": 0,
  "metadata": {
    "colab": {
      "name": "HMI_lab_task_baseline_implementation.ipynb",
      "provenance": [],
      "collapsed_sections": [],
      "authorship_tag": "ABX9TyMhg+peHuAPUezgmbI2OcFc",
      "include_colab_link": true
    },
    "kernelspec": {
      "name": "python3",
      "display_name": "Python 3"
    },
    "language_info": {
      "name": "python"
    }
  },
  "cells": [
    {
      "cell_type": "markdown",
      "metadata": {
        "id": "view-in-github",
        "colab_type": "text"
      },
      "source": [
        "<a href=\"https://colab.research.google.com/github/vaibhuujaiswal/EmotionClassificationOnAudioVisualData/blob/main/HMI_lab_task_baseline_implementation.ipynb\" target=\"_parent\"><img src=\"https://colab.research.google.com/assets/colab-badge.svg\" alt=\"Open In Colab\"/></a>"
      ]
    },
    {
      "cell_type": "markdown",
      "source": [
        "Connecting drive with google collab to transfer audio visual dataset"
      ],
      "metadata": {
        "id": "1tAZ-YRpgD0W"
      }
    },
    {
      "cell_type": "code",
      "source": [
        "from google.colab import drive\n",
        "drive.mount('../drive')"
      ],
      "metadata": {
        "colab": {
          "base_uri": "https://localhost:8080/"
        },
        "id": "BkfuCul66EEi",
        "outputId": "cbcf43d1-15c7-45a5-d764-7c1e3db3f549"
      },
      "execution_count": 73,
      "outputs": [
        {
          "output_type": "stream",
          "name": "stdout",
          "text": [
            "Drive already mounted at ../drive; to attempt to forcibly remount, call drive.mount(\"../drive\", force_remount=True).\n"
          ]
        }
      ]
    },
    {
      "cell_type": "markdown",
      "source": [
        "Libraries to be imported :"
      ],
      "metadata": {
        "id": "vS7Xf4vHf6RP"
      }
    },
    {
      "cell_type": "code",
      "execution_count": 74,
      "metadata": {
        "id": "iayI-DczO1R2"
      },
      "outputs": [],
      "source": [
        "import argparse\n",
        "import imutils\n",
        "import dlib\n",
        "import cv2\n",
        "import numpy as np\n",
        "import torch\n",
        "import torch.nn.functional as F\n",
        "from torchvision import datasets, transforms\n",
        "from tqdm.notebook import tqdm\n",
        "import os\n",
        "from zipfile import ZipFile\n",
        "from sklearn.decomposition import PCA\n",
        "from sklearn.model_selection import train_test_split\n",
        "from sklearn.svm import SVC\n",
        "from sklearn.metrics import accuracy_score, precision_score, recall_score, f1_score, confusion_matrix #for metrics\n",
        "import pandas as pd\n",
        "import librosa"
      ]
    },
    {
      "cell_type": "markdown",
      "source": [
        "Detection through video :"
      ],
      "metadata": {
        "id": "PagT1seKnPnS"
      }
    },
    {
      "cell_type": "markdown",
      "source": [
        "LBP implementation after which features are extracted from non-overlapping spatial 4*4 blocks!"
      ],
      "metadata": {
        "id": "iJvAeHbEgRUj"
      }
    },
    {
      "cell_type": "code",
      "source": [
        "\n",
        "def get_pixel(image, center, x , y):\n",
        "    new_value = 0\n",
        "    try:\n",
        "        if image[x][y] >= center:\n",
        "            new_value = 1\n",
        "    except:\n",
        "        pass\n",
        "    return new_value\n",
        "\n",
        "def lbp_calculated_pixel(image, x, y):\n",
        "\tcenter = image[x][y]\n",
        "\tval_ar = []\n",
        "\tval_ar.append(get_pixel(image, center, x-1, y-1))\n",
        "\tval_ar.append(get_pixel(image, center, x-1, y))\n",
        "\tval_ar.append(get_pixel(image, center, x-1, y + 1))\n",
        "\tval_ar.append(get_pixel(image, center, x, y + 1))\n",
        "\tval_ar.append(get_pixel(image, center, x + 1, y + 1))\n",
        "\tval_ar.append(get_pixel(image, center, x + 1, y))\n",
        "\tval_ar.append(get_pixel(image, center, x + 1, y-1))\n",
        "\tval_ar.append(get_pixel(image, center, x, y-1))\n",
        "\tpower_val= [1, 2, 4, 8, 16, 32, 64, 128]\n",
        "\tval = 0\n",
        "\tfor i in range(len(val_ar)):\n",
        "\t\tval += val_ar[i] * power_val[i]\n",
        "\n",
        "\treturn val\n",
        "\n",
        "def split(array, nrows, ncols):\n",
        "    r, h = array.shape\n",
        "    return array.reshape(h//nrows, nrows, -1, ncols).swapaxes(1, 2).reshape(-1, nrows, ncols)\n",
        "\n",
        "def returnAVG(originalMatrix):\n",
        "  avg= []\n",
        "  for i in split(originalMatrix, 4, 4):\n",
        "    avg.append(np.mean(i))\n",
        "  return avg\n",
        "\n",
        "def getFrames(fileName):\n",
        "  capture= cv2.VideoCapture(fileName)\n",
        "  frameNr= 0\n",
        "  frame_list= []\n",
        "  while (True):\n",
        "      if frameNr % 100 == 0:\n",
        "        pass\n",
        "      if frameNr > 1440:\n",
        "        break\n",
        "      success, frame= capture.read()\n",
        "      if success:\n",
        "          frame= cv2.resize(frame,(120,120))\n",
        "          frame_list.append(frame)\n",
        "      else:\n",
        "          break\n",
        "      frameNr += 1\n",
        "  capture.release()\n",
        "  tempFrames= []\n",
        "  for i in range(0, len(frame_list), len(frame_list)//4+1):\n",
        "    tempFrames.append(frame_list[i])\n",
        "  return tempFrames"
      ],
      "metadata": {
        "id": "No_e5uIzO8k4"
      },
      "execution_count": 75,
      "outputs": []
    },
    {
      "cell_type": "markdown",
      "source": [
        "Feature Extraction"
      ],
      "metadata": {
        "id": "lCE0H4Pk-mSV"
      }
    },
    {
      "cell_type": "code",
      "source": [
        "dataAverage = []\n",
        "changedDataAverage = []\n",
        "path = os.getcwd()\n",
        "print(path)\n",
        "\n",
        "for actor in os.listdir('/drive/MyDrive/HMI_code_task/audio_video/'):\n",
        "    # with ZipFile('./drive/MyDrive/HMI_code_task/audio-video/', 'r') as zipObj:\n",
        "    #     zipObj.extractall()\n",
        "        \n",
        "    for video in os.listdir(f'/drive/MyDrive/HMI_code_task/audio_video/{actor}/'):\n",
        "        if video == '.DS_Store': #handles uploading case for macbook\n",
        "            continue\n",
        "        if int(video[-6:-4]) <= 20 and int(video[0:2]) == 1 and video.find('.mp4') != -1: #Using the first twenty actors for training and choosing from video\n",
        "            print(video)\n",
        "            videoName = f\"/drive/MyDrive/HMI_code_task/audio_video/{actor}/{video}\"\n",
        "\n",
        "            try:\n",
        "                listFrames= getFrames(videoName)\n",
        "                videoAVGs= []\n",
        "                for eachFrame in listFrames:\n",
        "                    gray= cv2.cvtColor(eachFrame, cv2.COLOR_BGR2GRAY) #convert frame to grayscale\n",
        "                    faceCascade = cv2.CascadeClassifier(cv2.data.haarcascades + \"haarcascade_frontalface_default.xml\") #using opencv's haarcascade function\n",
        "                    #fer could also have been used for the same.\n",
        "                    faces = faceCascade.detectMultiScale(gray, scaleFactor = 1.05, minNeighbors = 6, minSize=(30, 30))\n",
        "                    \n",
        "                    image_frame = None\n",
        "                    for (x, y, w, h) in faces:\n",
        "                        cv2.rectangle(eachFrame, (x, y), (x + w, y + h), (0, 255, 0), 2)\n",
        "                        image_frame = eachFrame[y:y + h, x:x + w]\n",
        "\n",
        "                    #resize image to 128 * 128 \n",
        "                    color_frame_bgr = image_frame\n",
        "                    color_frame_bgr = cv2.resize(color_frame_bgr, (128, 128))\n",
        "                    \n",
        "                    #convert image to black and white\n",
        "                    height, width, _= color_frame_bgr.shape\n",
        "                    gray_frame= cv2.cvtColor(color_frame_bgr, cv2.COLOR_BGR2GRAY)\n",
        "                    frame_LBP = np.zeros((height, width), np.uint8)\n",
        "                    \n",
        "                    #Post aligning Local Binary Pattern\n",
        "                    for i in range(0, height):\n",
        "                        for j in range(0, width):\n",
        "                            frame_LBP[i, j] = lbp_calculated_pixel(gray_frame, i, j)\n",
        "                    \n",
        "                    videoAVGs.append(returnAVG(frame_LBP))\n",
        "\n",
        "                dataAverage.append(videoAVGs)\n",
        "                changedDataAverage.append(video[6:8])\n",
        "            except Exception as E:\n",
        "                print(\"Error in feature extraction\")\n",
        "                pass\n",
        "\n",
        "\n",
        "dataAverage = np.array(dataAverage)\n",
        "dataAverage = np.reshape(dataAverage, (-1, 4*1024))\n",
        "dataAverage = dataAverage[:1200,:]\n",
        "dataAverage.shape\n",
        "\n",
        "changedDataAverage = np.array(changedDataAverage)\n",
        "changedDataAverage = changedDataAverage[:1200,]\n",
        "changedDataAverage.shape\n",
        "\n",
        "baseline_video_train_x = dataAverage[:1200,]\n",
        "baseline_video_train_y= changedDataAverage[:1200,]\n"
      ],
      "metadata": {
        "id": "0DDLDM1NSZJR"
      },
      "execution_count": null,
      "outputs": []
    },
    {
      "cell_type": "markdown",
      "source": [
        "SVM is learned for classification :"
      ],
      "metadata": {
        "id": "vNmCNpvaMKAF"
      }
    },
    {
      "cell_type": "code",
      "source": [
        "dataAverage = []\n",
        "changedDataAverage = []\n",
        "\n",
        "for actor in os.listdir('/drive/MyDrive/HMI_code_task/audio_video/'):\n",
        "  for video in os.listdir(f'/drive/MyDrive/HMI_code_task/audio_video/{actor}'):\n",
        "    if video == '.DS_Store':\n",
        "            continue\n",
        "    if int(video[-6:-4]) > 20 and video[0:2] == '01' and video.find('.mp4') != -1:\n",
        "      videoName= f\"/drive/MyDrive/HMI_code_task/audio_video/{actor}/{video}\"\n",
        "      print(video)\n",
        "      try:\n",
        "        listFrames = getFrames(videoName)\n",
        "        videoAVGs = []\n",
        "        for eachFrame in listFrames:\n",
        "            gray= cv2.cvtColor(eachFrame, cv2.COLOR_BGR2GRAY)\n",
        "            faceCascade = cv2.CascadeClassifier(cv2.data.haarcascades + \"haarcascade_frontalface_default.xml\")\n",
        "            faces = faceCascade.detectMultiScale(gray, scaleFactor=1.05,minNeighbors=6, minSize=(30, 30))\n",
        "            \n",
        "            image_frame= None\n",
        "            for (x, y, w, h) in faces:\n",
        "                cv2.rectangle(eachFrame, (x, y), (x + w, y + h), (0, 255, 0), 2)\n",
        "                image_frame= eachFrame[y:y + h, x:x + w]\n",
        "\n",
        "            color_frame_bgr= image_frame\n",
        "            color_frame_bgr= cv2.resize(color_frame_bgr, (128, 128))\n",
        "            \n",
        "            height, width, _= color_frame_bgr.shape\n",
        "            gray_frame= cv2.cvtColor(color_frame_bgr, cv2.COLOR_BGR2GRAY)\n",
        "            frame_LBP= np.zeros((height, width), np.uint8)\n",
        "            \n",
        "            for i in range(0, height):\n",
        "              for j in range(0, width):\n",
        "                frame_LBP[i, j]= lbp_calculated_pixel(gray_frame, i, j)\n",
        "            \n",
        "            videoAVGs.append(returnAVG(frame_LBP))\n",
        "        dataAverage.append(videoAVGs)\n",
        "        changedDataAverage.append(video[6:8])\n",
        "      except Exception as E:\n",
        "        pass\n",
        "\n",
        "\n",
        "dataAverage= np.array(dataAverage)\n",
        "dataAverage= np.reshape(dataAverage, (-1, 4*1024))\n",
        "dataAverage= dataAverage[:240,:]\n",
        "dataAverage.shape\n",
        "\n",
        "changedDataAverage = np.array(changedDataAverage)\n",
        "changedDataAverage = changedDataAverage[:240,]\n",
        "changedDataAverage.shape\n",
        "\n",
        "baseline_video_test_x = dataAverage\n",
        "baseline_video_test_y= changedDataAverage"
      ],
      "metadata": {
        "id": "o37Nn3TdLYHB"
      },
      "execution_count": null,
      "outputs": []
    },
    {
      "cell_type": "code",
      "source": [
        "from sklearn.model_selection import train_test_split\n",
        "\n",
        "x_train_testVideo, x_test_testVideo, y_train_testVideo, y_test_testVideo = train_test_split(dataAverage, changedDataAverage, test_size= 0.2, shuffle= True)"
      ],
      "metadata": {
        "colab": {
          "base_uri": "https://localhost:8080/"
        },
        "id": "f_UpxbQ9Xy7K",
        "outputId": "1bd78ef2-7485-4f85-d444-8159bd811426"
      },
      "execution_count": 98,
      "outputs": [
        {
          "output_type": "stream",
          "name": "stdout",
          "text": [
            "[[255.    255.    255.    ... 143.    143.    164.   ]\n",
            " [255.    255.    255.    ... 143.    141.5   164.   ]\n",
            " [255.    255.    255.    ... 143.    141.5   164.   ]\n",
            " ...\n",
            " [255.    255.    255.    ... 143.    143.    164.   ]\n",
            " [255.    255.    254.    ...  82.625 108.25  171.75 ]\n",
            " [255.    255.    255.    ... 200.    219.5   109.75 ]]\n"
          ]
        }
      ]
    },
    {
      "cell_type": "markdown",
      "source": [
        "Dimension reduction using PCA"
      ],
      "metadata": {
        "id": "jRVRVAVjYAOJ"
      }
    },
    {
      "cell_type": "code",
      "source": [
        "pca= PCA(n_components= 30)\n",
        "x_train= pca.fit_transform(baseline_video_train_x)\n",
        "x_test= pca.transform(baseline_video_test_x)"
      ],
      "metadata": {
        "id": "ZoOrHPmAX2ud"
      },
      "execution_count": 94,
      "outputs": []
    },
    {
      "cell_type": "markdown",
      "source": [
        "Model *Training*"
      ],
      "metadata": {
        "id": "WjLGWlweYD_K"
      }
    },
    {
      "cell_type": "code",
      "source": [
        "svm = SVC()\n",
        "svm.fit(x_train, baseline_video_train_y)"
      ],
      "metadata": {
        "colab": {
          "base_uri": "https://localhost:8080/"
        },
        "id": "ozst1_V-X7xZ",
        "outputId": "b78116e2-8631-4c9e-c5c7-bab87f4a379c"
      },
      "execution_count": 95,
      "outputs": [
        {
          "output_type": "execute_result",
          "data": {
            "text/plain": [
              "SVC()"
            ]
          },
          "metadata": {},
          "execution_count": 95
        }
      ]
    },
    {
      "cell_type": "markdown",
      "source": [
        "SVM metrics (using SVM skit learn)"
      ],
      "metadata": {
        "id": "Om3jW0DxYxSI"
      }
    },
    {
      "cell_type": "code",
      "source": [
        "y_Pred = svm.predict(x_test)\n",
        "print(\"SVM\")\n",
        "print(\"SVM Testing Accuracy : \", accuracy_score(baseline_video_test_y, y_Pred)*100)\n",
        "print(\"SVM Precision Score : \", precision_score(baseline_video_test_y, y_Pred, average='macro')*100)\n",
        "print(\"SVM Recall Score : \", recall_score(baseline_video_test_y, y_Pred, average='macro')*100)\n",
        "print(\"SVM F1 Score : \", f1_score(baseline_video_test_y, y_Pred, average='macro'))\n",
        "print(\"SVM Confusion Matrix\\n\", confusion_matrix(baseline_video_test_y, y_Pred))"
      ],
      "metadata": {
        "colab": {
          "base_uri": "https://localhost:8080/"
        },
        "id": "ZEJlI4DNY1U7",
        "outputId": "5c2cb210-d62f-4ab0-a535-22019ab2e6fe"
      },
      "execution_count": 96,
      "outputs": [
        {
          "output_type": "stream",
          "name": "stdout",
          "text": [
            "SVM\n",
            "SVM Testing Accuracy :  27.350427350427353\n",
            "SVM Precision Score :  28.62251905015063\n",
            "SVM Recall Score :  25.942887931034488\n",
            "SVM F1 Score :  0.23631163979864725\n",
            "SVM Confusion Matrix\n",
            " [[ 2 11  0  0  0  0  0  3]\n",
            " [ 0 21  6  1  1  0  0  3]\n",
            " [ 0 11 21  0  0  0  0  0]\n",
            " [ 3  9  2  0  5  2  0  8]\n",
            " [ 4  7  1  0  5 10  0  5]\n",
            " [ 4  9  0  2  1  7  1  8]\n",
            " [ 5  3  0  0  6  7  4  7]\n",
            " [ 6 10  0  0  1  7  1  4]]\n"
          ]
        }
      ]
    },
    {
      "cell_type": "markdown",
      "source": [
        "##AUDIO through smile. \n",
        "\n",
        "Please note that openEAR was no longer available for using. The github repository has not been present and maybe has been removed due to licensing issues. Opensmile.git can be used for the same.\n",
        "\n",
        "Installation with help of : https://audeering.github.io/opensmile/get-started.html"
      ],
      "metadata": {
        "id": "91jOxAmbbFh6"
      }
    },
    {
      "cell_type": "code",
      "source": [
        "!pip install Moviepy"
      ],
      "metadata": {
        "colab": {
          "base_uri": "https://localhost:8080/"
        },
        "id": "YmSuRNS7lvnk",
        "outputId": "02a351a2-6bcf-4cc9-95f4-cf30a2402b45"
      },
      "execution_count": 108,
      "outputs": [
        {
          "output_type": "stream",
          "name": "stdout",
          "text": [
            "Requirement already satisfied: Moviepy in /usr/local/lib/python3.7/dist-packages (0.2.3.5)\n",
            "Requirement already satisfied: imageio<3.0,>=2.1.2 in /usr/local/lib/python3.7/dist-packages (from Moviepy) (2.4.1)\n",
            "Requirement already satisfied: decorator<5.0,>=4.0.2 in /usr/local/lib/python3.7/dist-packages (from Moviepy) (4.4.2)\n",
            "Requirement already satisfied: tqdm<5.0,>=4.11.2 in /usr/local/lib/python3.7/dist-packages (from Moviepy) (4.64.0)\n",
            "Requirement already satisfied: numpy in /usr/local/lib/python3.7/dist-packages (from Moviepy) (1.21.6)\n",
            "Requirement already satisfied: pillow in /usr/local/lib/python3.7/dist-packages (from imageio<3.0,>=2.1.2->Moviepy) (7.1.2)\n"
          ]
        }
      ]
    },
    {
      "cell_type": "markdown",
      "source": [
        "Data Extraction and prepping"
      ],
      "metadata": {
        "id": "gKR5cOAsHmKO"
      }
    },
    {
      "cell_type": "code",
      "source": [
        "\"https://towardsdatascience.com/speech-emotion-recognition-using-ravdess-audio-dataset-ce19d162690#:~:text=It%20is%20a%20system%20through,field%20or%20customer%20call%20centers.\"\n",
        "\n",
        "\n",
        "emotionList = []\n",
        "actorList = []\n",
        "file_path = []\n",
        "\n",
        "for actor in os.listdir('/drive/MyDrive/HMI_code_task/audio_video/'):\n",
        "    for video in os.listdir(f'/drive/MyDrive/HMI_code_task/audio_video/{actor}/'):\n",
        "        if video == '.DS_Store':\n",
        "            continue\n",
        "        if video[0:2] == '01' and video.find(\".mp4\") != -1:\n",
        "            filename= f\"/drive/MyDrive/HMI_code_task/audio_video/{actor}/{video}\"\n",
        "            part = filename.split('.')[0].split('-')\n",
        "            emotionList.append(int(part[2]))\n",
        "            actorList.append(int(part[6]))\n",
        "            file_path.append(f\"/drive/MyDrive/HMI_code_task/audio_video/{actor}/{video}\")\n",
        "\n",
        "\n",
        "\n",
        "audio_df = pd.DataFrame(emotionList)\n",
        "audio_df = audio_df.replace({1:'neutral', 2:'calm', 3:'happy', 4:'sad', 5:'angry', 6:'fear', 7:'disgust', 8:'surprise'})\n",
        "audio_df = pd.concat([audio_df, pd.DataFrame(actorList)], axis=1)\n",
        "audio_df.columns = ['emotion','actor']\n",
        "audio_df = pd.concat([audio_df,pd.DataFrame(file_path, columns = ['path'])],axis=1)\n"
      ],
      "metadata": {
        "id": "f-xxIc5d9QPX"
      },
      "execution_count": 126,
      "outputs": []
    },
    {
      "cell_type": "markdown",
      "source": [
        "Audio Feature **Extraction**"
      ],
      "metadata": {
        "id": "r9QXdB0IIClr"
      }
    },
    {
      "cell_type": "markdown",
      "source": [
        "![Screenshot 2022-05-03 at 11.11.51 PM.png](data:image/png;base64,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)"
      ],
      "metadata": {
        "id": "Pc4zOOOnID1T"
      }
    },
    {
      "cell_type": "code",
      "source": [
        "import librosa\n",
        "\n",
        "df = pd.DataFrame(columns=['mel_spectrogram'])\n",
        "counter = 0\n",
        "for index, path in enumerate(audio_df.path):\n",
        "    X, sample_rate = librosa.load(path, res_type = 'kaiser_fast',duration = 3,sr = 44100,offset = 0.5)\n",
        "    print(path)\n",
        "    spectrogram = librosa.feature.melspectrogram(y=X, sr=sample_rate, n_mels=128,fmax=8000) \n",
        "    db_spec = librosa.power_to_db(spectrogram)\n",
        "    log_spectrogram = np.mean(db_spec, axis = 0)\n",
        "    \n",
        "    df.loc[counter] = [log_spectrogram]\n",
        "    counter=counter+1\n",
        "print(len(df))\n",
        "df.head()\n"
      ],
      "metadata": {
        "id": "edmSL6k2-e5I"
      },
      "execution_count": null,
      "outputs": []
    },
    {
      "cell_type": "markdown",
      "source": [
        "###Split train and test"
      ],
      "metadata": {
        "id": "HWSraORPHJ0K"
      }
    },
    {
      "cell_type": "code",
      "source": [
        "train,test = train_test_split(df, test_size = 0.2, random_state = 0)\n",
        "\n",
        "X_train = train.iloc[:, 3:]\n",
        "y_train = train.iloc[:,:2]\n",
        "X_test = test.iloc[:,3:]\n",
        "y_test = test.iloc[:,:2]"
      ],
      "metadata": {
        "id": "-WK8v8qh-pBn"
      },
      "execution_count": 139,
      "outputs": []
    },
    {
      "cell_type": "code",
      "source": [
        "X_train = np.array(X_train)\n",
        "y_train = np.array(y_train)\n",
        "X_test = np.array(X_test)\n",
        "y_test = np.array(y_test)"
      ],
      "metadata": {
        "id": "UF3dQEYy8S4h"
      },
      "execution_count": 140,
      "outputs": []
    },
    {
      "cell_type": "markdown",
      "source": [
        "##**Label** Encoder :"
      ],
      "metadata": {
        "id": "8YDHHRc4HPi-"
      }
    },
    {
      "cell_type": "code",
      "source": [
        "!pip install keras.utils\n",
        "from keras.utils import to_categorical\n"
      ],
      "metadata": {
        "id": "V2CpvkyMECrF"
      },
      "execution_count": null,
      "outputs": []
    },
    {
      "cell_type": "code",
      "source": [
        "from sklearn.preprocessing import LabelEncoder\n",
        "\n",
        "lb = LabelEncoder()\n",
        "y_train = to_categorical(lb.fit_transform(y_train))\n",
        "y_test = to_categorical(lb.fit_transform(y_test))\n"
      ],
      "metadata": {
        "id": "OygBF0uf8kbi"
      },
      "execution_count": null,
      "outputs": []
    }
  ]
}